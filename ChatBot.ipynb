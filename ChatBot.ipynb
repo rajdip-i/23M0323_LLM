{
 "cells": [
  {
   "cell_type": "raw",
   "id": "8e2dfd34-f88f-467d-a384-8e87f3ea4cb4",
   "metadata": {},
   "source": [
    "Importing necessary libraries"
   ]
  },
  {
   "cell_type": "raw",
   "id": "3d626d8f-e1e6-4ad4-8d0f-ad36a0cbf51f",
   "metadata": {},
   "source": [
    "A. Sentiment Analysis"
   ]
  },
  {
   "cell_type": "code",
   "execution_count": 1,
   "id": "a066dbb7-6859-49ef-bdb6-3d3716933e47",
   "metadata": {},
   "outputs": [
    {
     "name": "stderr",
     "output_type": "stream",
     "text": [
      "/Users/rajdipingale/miniforge3/envs/ml_env/lib/python3.8/site-packages/requests/__init__.py:86: RequestsDependencyWarning: Unable to find acceptable character detection dependency (chardet or charset_normalizer).\n",
      "  warnings.warn(\n",
      "/Users/rajdipingale/miniforge3/envs/ml_env/lib/python3.8/site-packages/tqdm/auto.py:21: TqdmWarning: IProgress not found. Please update jupyter and ipywidgets. See https://ipywidgets.readthedocs.io/en/stable/user_install.html\n",
      "  from .autonotebook import tqdm as notebook_tqdm\n",
      "/Users/rajdipingale/miniforge3/envs/ml_env/lib/python3.8/site-packages/transformers/utils/generic.py:311: FutureWarning: `torch.utils._pytree._register_pytree_node` is deprecated. Please use `torch.utils._pytree.register_pytree_node` instead.\n",
      "  torch.utils._pytree._register_pytree_node(\n",
      "/Users/rajdipingale/miniforge3/envs/ml_env/lib/python3.8/site-packages/transformers/utils/generic.py:311: FutureWarning: `torch.utils._pytree._register_pytree_node` is deprecated. Please use `torch.utils._pytree.register_pytree_node` instead.\n",
      "  torch.utils._pytree._register_pytree_node(\n"
     ]
    }
   ],
   "source": [
    "from transformers import pipeline, Conversation\n",
    "import gradio as gr"
   ]
  },
  {
   "cell_type": "code",
   "execution_count": 2,
   "id": "02118d4e-81df-46ea-92f8-8191e615439b",
   "metadata": {},
   "outputs": [
    {
     "name": "stderr",
     "output_type": "stream",
     "text": [
      "No model was supplied, defaulted to distilbert-base-uncased-finetuned-sst-2-english and revision af0f99b (https://huggingface.co/distilbert-base-uncased-finetuned-sst-2-english).\n",
      "Using a pipeline without specifying a model name and revision in production is not recommended.\n",
      "/Users/rajdipingale/miniforge3/envs/ml_env/lib/python3.8/site-packages/huggingface_hub/file_download.py:1132: FutureWarning: `resume_download` is deprecated and will be removed in version 1.0.0. Downloads always resume when possible. If you want to force a new download, use `force_download=True`.\n",
      "  warnings.warn(\n",
      "/Users/rajdipingale/miniforge3/envs/ml_env/lib/python3.8/site-packages/transformers/utils/generic.py:311: FutureWarning: `torch.utils._pytree._register_pytree_node` is deprecated. Please use `torch.utils._pytree.register_pytree_node` instead.\n",
      "  torch.utils._pytree._register_pytree_node(\n"
     ]
    },
    {
     "data": {
      "text/plain": [
       "[{'label': 'POSITIVE', 'score': 0.9998656511306763}]"
      ]
     },
     "execution_count": 2,
     "metadata": {},
     "output_type": "execute_result"
    }
   ],
   "source": [
    "model= pipeline(task=\"sentiment-analysis\")\n",
    "model(\"I love you\")"
   ]
  },
  {
   "cell_type": "code",
   "execution_count": 3,
   "id": "9a96d52a-1620-4791-8484-4d82a5bc9468",
   "metadata": {},
   "outputs": [
    {
     "data": {
      "text/plain": [
       "[{'label': 'POSITIVE', 'score': 0.9998745918273926}]"
      ]
     },
     "execution_count": 3,
     "metadata": {},
     "output_type": "execute_result"
    }
   ],
   "source": [
    "pipeline(task=\"sentiment-analysis\", model=\"distilbert-base-uncased-finetuned-sst-2-english\")(\"Love this!\")"
   ]
  },
  {
   "cell_type": "code",
   "execution_count": 4,
   "id": "2f78e748-78e4-465a-a960-046c652d186a",
   "metadata": {},
   "outputs": [
    {
     "data": {
      "text/plain": [
       "[{'label': 'NEGATIVE', 'score': 0.9997110962867737}]"
      ]
     },
     "execution_count": 4,
     "metadata": {},
     "output_type": "execute_result"
    }
   ],
   "source": [
    "classifier = pipeline(task=\"sentiment-analysis\", model=\"distilbert-base-uncased-finetuned-sst-2-english\")\n",
    "classifier(\"Hate this.\")"
   ]
  },
  {
   "cell_type": "code",
   "execution_count": 5,
   "id": "dcf78b3f-698f-41a8-b1e6-e8023b1bfd54",
   "metadata": {},
   "outputs": [
    {
     "data": {
      "text/plain": [
       "[{'label': 'POSITIVE', 'score': 0.9998785257339478},\n",
       " {'label': 'POSITIVE', 'score': 0.9680057168006897},\n",
       " {'label': 'NEGATIVE', 'score': 0.8776100277900696},\n",
       " {'label': 'POSITIVE', 'score': 0.9998120665550232}]"
      ]
     },
     "execution_count": 5,
     "metadata": {},
     "output_type": "execute_result"
    }
   ],
   "source": [
    "text_list = [\"This is great\", \\\n",
    "             \"Thanks for nothing\", \\\n",
    "             \"You've got to work on your face\", \\\n",
    "             \"You're beautiful, never change!\"]\n",
    "\n",
    "classifier(text_list)\n"
   ]
  },
  {
   "cell_type": "code",
   "execution_count": 6,
   "id": "36e11e03-0cd6-47d2-ba95-555f6daf045e",
   "metadata": {},
   "outputs": [
    {
     "data": {
      "text/plain": [
       "[[{'label': 'admiration', 'score': 0.9526104927062988},\n",
       "  {'label': 'approval', 'score': 0.030472081154584885},\n",
       "  {'label': 'neutral', 'score': 0.015236238949000835},\n",
       "  {'label': 'excitement', 'score': 0.0060637635178864},\n",
       "  {'label': 'gratitude', 'score': 0.005296189337968826},\n",
       "  {'label': 'joy', 'score': 0.004475208930671215},\n",
       "  {'label': 'curiosity', 'score': 0.004322323482483625},\n",
       "  {'label': 'realization', 'score': 0.004089603666216135},\n",
       "  {'label': 'optimism', 'score': 0.0040772221982479095},\n",
       "  {'label': 'disapproval', 'score': 0.004076565615832806},\n",
       "  {'label': 'annoyance', 'score': 0.0035287411883473396},\n",
       "  {'label': 'surprise', 'score': 0.002973065711557865},\n",
       "  {'label': 'disappointment', 'score': 0.002734639449045062},\n",
       "  {'label': 'love', 'score': 0.0026945779100060463},\n",
       "  {'label': 'amusement', 'score': 0.0024867437314242125},\n",
       "  {'label': 'confusion', 'score': 0.002360738581046462},\n",
       "  {'label': 'pride', 'score': 0.0021013361401855946},\n",
       "  {'label': 'sadness', 'score': 0.0017730513354763389},\n",
       "  {'label': 'anger', 'score': 0.0017196922563016415},\n",
       "  {'label': 'caring', 'score': 0.0013670086627826095},\n",
       "  {'label': 'desire', 'score': 0.0010478721233084798},\n",
       "  {'label': 'disgust', 'score': 0.0009689946309663355},\n",
       "  {'label': 'fear', 'score': 0.0005249780369922519},\n",
       "  {'label': 'relief', 'score': 0.00048621135647408664},\n",
       "  {'label': 'embarrassment', 'score': 0.00034175056498497725},\n",
       "  {'label': 'grief', 'score': 0.0003389194898772985},\n",
       "  {'label': 'remorse', 'score': 0.0002780946088023484},\n",
       "  {'label': 'nervousness', 'score': 0.0002078844845527783}]]"
      ]
     },
     "execution_count": 6,
     "metadata": {},
     "output_type": "execute_result"
    }
   ],
   "source": [
    "classifier = pipeline(task=\"text-classification\", model=\"SamLowe/roberta-base-go_emotions\", top_k=None)\n",
    "classifier(text_list[0])"
   ]
  },
  {
   "cell_type": "raw",
   "id": "9f2cafcb-d2cc-4f07-a0df-c27bcaf3cec2",
   "metadata": {},
   "source": [
    "Classifier Chatbot"
   ]
  },
  {
   "cell_type": "code",
   "execution_count": 7,
   "id": "cb540ac4-bed2-435a-960e-72e210e27a36",
   "metadata": {},
   "outputs": [
    {
     "name": "stdout",
     "output_type": "stream",
     "text": [
      "Running on local URL:  http://127.0.0.1:7860\n",
      "\n",
      "To create a public link, set `share=True` in `launch()`.\n"
     ]
    },
    {
     "data": {
      "text/html": [
       "<div><iframe src=\"http://127.0.0.1:7860/\" width=\"100%\" height=\"500\" allow=\"autoplay; camera; microphone; clipboard-read; clipboard-write;\" frameborder=\"0\" allowfullscreen></iframe></div>"
      ],
      "text/plain": [
       "<IPython.core.display.HTML object>"
      ]
     },
     "metadata": {},
     "output_type": "display_data"
    },
    {
     "data": {
      "text/plain": []
     },
     "execution_count": 7,
     "metadata": {},
     "output_type": "execute_result"
    }
   ],
   "source": [
    "def top3_text_classes(message, history):\n",
    "    return str(classifier(message)[0][:3]).replace('}, {', '\\n').replace('[{', '').replace('}]', '')\n",
    "\n",
    "demo_sentiment = gr.ChatInterface(top3_text_classes, title=\"Text Sentiment Chatbot\", description=\"Enter your text, and the chatbot will classify the sentiment.\")\n",
    "\n",
    "demo_sentiment.launch()"
   ]
  },
  {
   "cell_type": "raw",
   "id": "a0cf928f-6c77-4166-bd5b-afde5b711e28",
   "metadata": {},
   "source": [
    "B. Summarization"
   ]
  },
  {
   "cell_type": "code",
   "execution_count": 9,
   "id": "f2e4e020-4d1b-4913-8e9b-bfa4c8970688",
   "metadata": {},
   "outputs": [],
   "source": [
    "text = \"\"\"\n",
    "Hugging Face is an AI company that has become a major hub for open-source machine learning. \n",
    "Their platform has 3 major elements which allow users to access and share machine learning resources. \n",
    "First, is their rapidly growing repository of pre-trained open-source machine learning models for things such as natural language processing (NLP), computer vision, and more. \n",
    "Second, is their library of datasets for training machine learning models for almost any task. \n",
    "Third, and finally, is Spaces which is a collection of open-source ML apps.\n",
    "\n",
    "The power of these resources is that they are community generated, which leverages all the benefits of open source i.e. cost-free, wide diversity of tools, high quality resources, and rapid pace of innovation. \n",
    "While these make building powerful ML projects more accessible than before, there is another key element of the Hugging Face ecosystem—their Transformers library.\n",
    "\"\"\""
   ]
  },
  {
   "cell_type": "code",
   "execution_count": 11,
   "id": "a9d0d537-07e8-4e94-a8b8-2701b2abe4e4",
   "metadata": {},
   "outputs": [],
   "source": [
    "summerisation= pipeline(task=\"summarization\", model=\"facebook/bart-large-cnn\")"
   ]
  },
  {
   "cell_type": "code",
   "execution_count": 12,
   "id": "8fd56e1a-f184-4dbc-b068-c7e5f94efef9",
   "metadata": {},
   "outputs": [
    {
     "data": {
      "text/plain": [
       "'Hugging Face is an AI company that has become a major hub for open-source machine learning. The power of these resources is that they are community generated, which leverages all the benefits of open source i.e. cost-free, wide diversity of tools, high quality resources, and rapid pace of innovation.'"
      ]
     },
     "execution_count": 12,
     "metadata": {},
     "output_type": "execute_result"
    }
   ],
   "source": [
    "summary= summerisation(text)[0]['summary_text']\n",
    "summary"
   ]
  },
  {
   "cell_type": "code",
   "execution_count": 14,
   "id": "ab9d1c1d-30f9-492c-98ba-1ff16bcef333",
   "metadata": {},
   "outputs": [
    {
     "data": {
      "text/plain": [
       "[[{'label': 'neutral', 'score': 0.6583317518234253},\n",
       "  {'label': 'approval', 'score': 0.29359307885169983},\n",
       "  {'label': 'admiration', 'score': 0.09855831414461136},\n",
       "  {'label': 'realization', 'score': 0.03625236824154854},\n",
       "  {'label': 'optimism', 'score': 0.007355265785008669},\n",
       "  {'label': 'annoyance', 'score': 0.005412667524069548},\n",
       "  {'label': 'disapproval', 'score': 0.00350172258913517},\n",
       "  {'label': 'disappointment', 'score': 0.003223694395273924},\n",
       "  {'label': 'gratitude', 'score': 0.003162635490298271},\n",
       "  {'label': 'pride', 'score': 0.002958777593448758},\n",
       "  {'label': 'excitement', 'score': 0.0024736819323152304},\n",
       "  {'label': 'joy', 'score': 0.0020656294655054808},\n",
       "  {'label': 'relief', 'score': 0.0017403025412932038},\n",
       "  {'label': 'caring', 'score': 0.0012667074333876371},\n",
       "  {'label': 'desire', 'score': 0.0010529049905017018},\n",
       "  {'label': 'surprise', 'score': 0.001045376411639154},\n",
       "  {'label': 'disgust', 'score': 0.0010035439627245069},\n",
       "  {'label': 'confusion', 'score': 0.0009538375306874514},\n",
       "  {'label': 'love', 'score': 0.0009410729981027544},\n",
       "  {'label': 'sadness', 'score': 0.0006823178264312446},\n",
       "  {'label': 'anger', 'score': 0.0006570838741026819},\n",
       "  {'label': 'curiosity', 'score': 0.0006533761043101549},\n",
       "  {'label': 'amusement', 'score': 0.000638756318949163},\n",
       "  {'label': 'fear', 'score': 0.0003799634869210422},\n",
       "  {'label': 'embarrassment', 'score': 0.0003727002185769379},\n",
       "  {'label': 'remorse', 'score': 0.0002678181335795671},\n",
       "  {'label': 'grief', 'score': 0.00026593118673190475},\n",
       "  {'label': 'nervousness', 'score': 0.0001909369311761111}]]"
      ]
     },
     "execution_count": 14,
     "metadata": {},
     "output_type": "execute_result"
    }
   ],
   "source": [
    "classifier(summary)"
   ]
  },
  {
   "cell_type": "code",
   "execution_count": 19,
   "id": "8a92e8b1-2344-4c36-ae40-7aebe9ae8648",
   "metadata": {},
   "outputs": [
    {
     "name": "stdout",
     "output_type": "stream",
     "text": [
      "Running on local URL:  http://127.0.0.1:7861\n",
      "\n",
      "To create a public link, set `share=True` in `launch()`.\n"
     ]
    },
    {
     "data": {
      "text/html": [
       "<div><iframe src=\"http://127.0.0.1:7861/\" width=\"100%\" height=\"500\" allow=\"autoplay; camera; microphone; clipboard-read; clipboard-write;\" frameborder=\"0\" allowfullscreen></iframe></div>"
      ],
      "text/plain": [
       "<IPython.core.display.HTML object>"
      ]
     },
     "metadata": {},
     "output_type": "display_data"
    },
    {
     "data": {
      "text/plain": []
     },
     "execution_count": 19,
     "metadata": {},
     "output_type": "execute_result"
    }
   ],
   "source": [
    "def summarizer_bot(message, history):\n",
    "    return summarizer(message, min_length=5, max_length=140)[0]['summary_text']\n",
    "\n",
    "demo_summarizer = gr.ChatInterface(summarizer_bot, title=\"Summarizer Chatbot\", description=\"Enter your text, and the chatbot will return the summarized version.\")\n",
    "\n",
    "demo_summarizer.launch()"
   ]
  },
  {
   "cell_type": "code",
   "execution_count": null,
   "id": "75f62468-5d6a-493a-b07e-ea29d9af177b",
   "metadata": {},
   "outputs": [],
   "source": []
  },
  {
   "cell_type": "raw",
   "id": "0f7d5de1-ddad-41e1-98b9-875293afb896",
   "metadata": {},
   "source": [
    "c. Conversation"
   ]
  },
  {
   "cell_type": "code",
   "execution_count": 15,
   "id": "b52a5d8c-b23f-4465-ad49-6a334d6e536c",
   "metadata": {},
   "outputs": [],
   "source": [
    "chatbot = pipeline(model=\"facebook/blenderbot-400M-distill\")"
   ]
  },
  {
   "cell_type": "code",
   "execution_count": 16,
   "id": "2c92573d-35ae-4790-8c10-3571ea5b62f0",
   "metadata": {},
   "outputs": [],
   "source": [
    "conversation = chatbot(\"Hi I'm Shaw, how are you?\")"
   ]
  },
  {
   "cell_type": "code",
   "execution_count": 18,
   "id": "10dbf296-0a44-4686-b22f-59fd7fe78c16",
   "metadata": {},
   "outputs": [
    {
     "data": {
      "text/plain": [
       "[{'generated_text': \" I'm doing well. How are you doing this evening? I just got home from work.\"}]"
      ]
     },
     "execution_count": 18,
     "metadata": {},
     "output_type": "execute_result"
    }
   ],
   "source": [
    "conversation"
   ]
  },
  {
   "cell_type": "code",
   "execution_count": 20,
   "id": "a4d3f8de-045f-4da6-bf2a-52985035a908",
   "metadata": {},
   "outputs": [
    {
     "name": "stdout",
     "output_type": "stream",
     "text": [
      "Running on local URL:  http://127.0.0.1:7862\n",
      "\n",
      "To create a public link, set `share=True` in `launch()`.\n"
     ]
    },
    {
     "data": {
      "text/html": [
       "<div><iframe src=\"http://127.0.0.1:7862/\" width=\"100%\" height=\"500\" allow=\"autoplay; camera; microphone; clipboard-read; clipboard-write;\" frameborder=\"0\" allowfullscreen></iframe></div>"
      ],
      "text/plain": [
       "<IPython.core.display.HTML object>"
      ]
     },
     "metadata": {},
     "output_type": "display_data"
    },
    {
     "data": {
      "text/plain": []
     },
     "execution_count": 20,
     "metadata": {},
     "output_type": "execute_result"
    }
   ],
   "source": [
    "message_list = []\n",
    "response_list = []\n",
    "\n",
    "def vanilla_chatbot(message, history):\n",
    "    conversation = chatbot(message)\n",
    "    \n",
    "    return conversation[0]['generated_text']\n",
    "\n",
    "demo_chatbot = gr.ChatInterface(vanilla_chatbot, title=\"Vanilla Chatbot\", description=\"Enter text to start chatting.\")\n",
    "\n",
    "demo_chatbot.launch()"
   ]
  },
  {
   "cell_type": "code",
   "execution_count": null,
   "id": "167b1253-784a-4b66-876c-fba3db52c177",
   "metadata": {},
   "outputs": [],
   "source": []
  }
 ],
 "metadata": {
  "kernelspec": {
   "display_name": "Python 3 (ipykernel)",
   "language": "python",
   "name": "python3"
  },
  "language_info": {
   "codemirror_mode": {
    "name": "ipython",
    "version": 3
   },
   "file_extension": ".py",
   "mimetype": "text/x-python",
   "name": "python",
   "nbconvert_exporter": "python",
   "pygments_lexer": "ipython3",
   "version": "3.8.19"
  }
 },
 "nbformat": 4,
 "nbformat_minor": 5
}
